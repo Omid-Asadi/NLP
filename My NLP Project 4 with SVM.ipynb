{
 "cells": [
  {
   "cell_type": "markdown",
   "metadata": {},
   "source": [
    "<div class=\"alert alert-block alert-success\">\n",
    "    <h1 align=\"center\">Sentiment Analysis</h1>\n",
    "    <h3 align=\"center\">On</h3>\n",
    "    <h3 align=\"center\">... Review.csv dataset ...</h3>\n",
    "    <h3 align=\"center\">\"Task Four\"</h3>\n",
    "    <h4 align=\"center\"><a href=\"http://www.github.com/omid-asadi\">Omid Asadi</a></h5>\n",
    "    <h4 align=\"center\">student number: 970149637</h4>\n",
    "</div>"
   ]
  },
  {
   "cell_type": "markdown",
   "metadata": {},
   "source": [
    "#  Tasks for this week contains:\n",
    " <b>A. Data Cleaning <br>\n",
    " B. Data Tokenizing<br>\n",
    " C. Word Embedding Word2Vec<br>\n",
    " D. Manipulating the Features dimension to be ready for SVM approach with calculating Average to be fit.   \n",
    " E. Applying SVM Support Vector Machine <br>\n",
    " F. Evaluation & Confusion Matrix Part</b><br>\n",
    "   <img src=\" https://miro.medium.com/max/1300/0*m355u3-pHvd5DsLA.png\" width=\"358\" height=\"auto\" width=\"100%\" \n",
    " align=\"left\"/> </p>\n",
    "\n",
    "  <img src=\" https://repository-images.githubusercontent.com/1349775/202c4680-8f7c-11e9-91c6-745fdcbeffe8\" width=\"358\" height=\"auto\" width=\"100%\" \n",
    " align=\"center\"/> </p>\n",
    "\n"
   ]
  },
  {
   "cell_type": "code",
   "execution_count": 26,
   "metadata": {},
   "outputs": [],
   "source": [
    "import numpy as np\n",
    "import matplotlib.pyplot as plt\n",
    "import pandas as pd\n",
    "from bs4 import BeautifulSoup \n",
    "from nltk.stem.porter import PorterStemmer\n",
    "from nltk.stem        import WordNetLemmatizer\n",
    "import re\n",
    "from nltk.corpus import stopwords\n",
    "import logging\n",
    "from gensim.models import word2vec\n",
    "from sklearn.metrics import confusion_matrix\n",
    "from sklearn.model_selection import cross_val_score\n",
    "from sklearn.metrics import accuracy_score\n",
    "from sklearn.svm import LinearSVC, SVC"
   ]
  },
  {
   "cell_type": "markdown",
   "metadata": {},
   "source": [
    "<div class=\"alert alert-block alert-success\">\n",
    "    <h1 align=\"center\"> ... Loading the Data ... </h1>\n",
    "<br>\n",
    "</div>"
   ]
  },
  {
   "cell_type": "code",
   "execution_count": 27,
   "metadata": {},
   "outputs": [],
   "source": [
    "data = pd.read_csv(\"review.csv\", encoding='latin-1')\n",
    "data.rename(columns={'review':'SentimentText','sentiment':'Sentiment'},inplace=True)"
   ]
  },
  {
   "cell_type": "markdown",
   "metadata": {},
   "source": [
    " <b>                   <br>\n",
    "\n",
    "###  Check the Relativity Status Between Positives & Negatives:\n"
   ]
  },
  {
   "cell_type": "code",
   "execution_count": 28,
   "metadata": {},
   "outputs": [
    {
     "name": "stdout",
     "output_type": "stream",
     "text": [
      " 1    694\n",
      "-1    692\n",
      "Name: Sentiment, dtype: int64\n",
      "==========================\n"
     ]
    },
    {
     "data": {
      "image/png": "[encoded data removed]",
      "text/plain": [
       "<Figure size 432x288 with 1 Axes>"
      ]
     },
     "metadata": {},
     "output_type": "display_data"
    }
   ],
   "source": [
    "relativity = data['Sentiment'].value_counts(dropna=False)\n",
    "print(relativity)\n",
    "print(\"==========================\")\n",
    "\n",
    "labels = 'Positive', 'Negative'\n",
    "fig1, ax1 = plt.subplots()\n",
    "fig1.suptitle('... Relativity Status ...', fontsize=16)\n",
    "ax1.pie(relativity, labels=labels, autopct='%1.1f%%', shadow=True, startangle=90)\n",
    "plt.show()"
   ]
  },
  {
   "cell_type": "markdown",
   "metadata": {},
   "source": [
    "<div class=\"alert alert-block alert-success\">\n",
    "    <h1 align=\"center\"> Preprocessing Part </h1>\n",
    "    <h3 align=\"center\">.......... Data Cleaning .........</h3>\n",
    "\n",
    "</div>"
   ]
  },
  {
   "cell_type": "code",
   "execution_count": 29,
   "metadata": {},
   "outputs": [],
   "source": [
    "def review_wordlist(review, remove_stopwords=False):\n",
    "    \n",
    "    review_text = BeautifulSoup(review).get_text()\n",
    "    review_text = re.sub(\"[^a-zA-Z]\",\" \",review_text)\n",
    "    words = review_text.lower().split()\n",
    "    if remove_stopwords:\n",
    "        stops = set(stopwords.words(\"english\"))     \n",
    "        words = [w for w in words if not w in stops]\n",
    "    \n",
    "    return(words)"
   ]
  },
  {
   "cell_type": "code",
   "execution_count": 30,
   "metadata": {},
   "outputs": [
    {
     "name": "stdout",
     "output_type": "stream",
     "text": [
      "(1386, 2)\n"
     ]
    }
   ],
   "source": [
    "data = data[data['SentimentText'].isnull() == False]\n",
    "\n",
    "#lower string\n",
    "data['SentimentText'] = data['SentimentText'].str.lower()\n",
    "\n",
    "#remove email adress\n",
    "data['SentimentText'] = data['SentimentText'].replace('[a-zA-Z0-9-_.]+@[a-zA-Z0-9-_.]+', '', regex=True)\n",
    "\n",
    "#remove IP address\n",
    "data['SentimentText'] = data['SentimentText'].replace('((25[0-5]|2[0-4][0-9]|[01]?[0-9][0-9]?)(\\.|$)){4}', '', regex=True)\n",
    "\n",
    "#remove punctaitions and special chracters\n",
    "data['SentimentText'] = data['SentimentText'].str.replace('[^\\w\\s]','')\n",
    "\n",
    "#remove numbers\n",
    "data['SentimentText'] = data['SentimentText'].replace('\\d', '', regex=True)\n",
    "print(data.shape)\n"
   ]
  },
  {
   "cell_type": "markdown",
   "metadata": {},
   "source": [
    "<div class=\"alert alert-block alert-success\">\n",
    "    <h2 align=\"center\"> ... Spliting Data ... </h2>\n",
    "<br>\n",
    "</div>"
   ]
  },
  {
   "cell_type": "code",
   "execution_count": 31,
   "metadata": {},
   "outputs": [],
   "source": [
    "from sklearn.model_selection import train_test_split\n",
    "\n",
    "x_train, x_test, y_train, y_test = train_test_split(data['SentimentText'].values.astype('U'),data['Sentiment'].values.astype('int32'), test_size=0.10, random_state=0)\n",
    "classes  = data['Sentiment'].unique()"
   ]
  },
  {
   "cell_type": "code",
   "execution_count": 32,
   "metadata": {},
   "outputs": [],
   "source": [
    "import nltk.data\n",
    "\n",
    "tokenizer = nltk.data.load('tokenizers/punkt/english.pickle')"
   ]
  },
  {
   "cell_type": "code",
   "execution_count": 33,
   "metadata": {},
   "outputs": [],
   "source": [
    "def review_sentences(review, tokenizer, remove_stopwords=True):\n",
    "\n",
    "    raw_sentences = tokenizer.tokenize(review.strip())\n",
    "    sentences = []\n",
    "    for raw_sentence in raw_sentences:\n",
    "        if len(raw_sentence)>0:\n",
    "            sentences.append(review_wordlist(raw_sentence,\\\n",
    "                                            remove_stopwords))\n",
    "            \n",
    "    return sentences"
   ]
  },
  {
   "cell_type": "code",
   "execution_count": 34,
   "metadata": {},
   "outputs": [
    {
     "name": "stdout",
     "output_type": "stream",
     "text": [
      "Parsing sentences from training set\n"
     ]
    }
   ],
   "source": [
    "sentences = []\n",
    "print(\"Parsing sentences from training set\")\n",
    "for review in x_train:\n",
    "    sentences += review_sentences(review, tokenizer)"
   ]
  },
  {
   "cell_type": "code",
   "execution_count": null,
   "metadata": {},
   "outputs": [],
   "source": []
  },
  {
   "cell_type": "markdown",
   "metadata": {},
   "source": [
    "\n",
    "<div class=\"alert alert-block alert-success\">\n",
    "    <h2 align=\"center\"> ... Builidng word2vec vocabulary ... </h2>\n",
    "        <h2 align=\"center\">  &  </h2>\n",
    "    <h2 align=\"center\"> ... Importing Google Gensim W2V ... </h2>\n",
    "\n",
    "<br>\n",
    "</div>"
   ]
  },
  {
   "cell_type": "code",
   "execution_count": 35,
   "metadata": {},
   "outputs": [],
   "source": [
    "logging.basicConfig(format='%(asctime)s : %(levelname)s : %(message)s', level=logging.INFO)"
   ]
  },
  {
   "cell_type": "code",
   "execution_count": 36,
   "metadata": {},
   "outputs": [
    {
     "name": "stderr",
     "output_type": "stream",
     "text": [
      "2020-01-16 17:52:48,849 : INFO : collecting all words and their counts\n",
      "2020-01-16 17:52:48,851 : INFO : PROGRESS: at sentence #0, processed 0 words, keeping 0 word types\n",
      "2020-01-16 17:52:48,959 : INFO : collected 38077 word types from a corpus of 446902 raw words and 1247 sentences\n",
      "2020-01-16 17:52:48,960 : INFO : Loading a fresh vocabulary\n",
      "2020-01-16 17:52:48,987 : INFO : effective_min_count=40 retains 1968 unique words (5% of original 38077, drops 36109)\n",
      "2020-01-16 17:52:48,988 : INFO : effective_min_count=40 leaves 281823 word corpus (63% of original 446902, drops 165079)\n",
      "2020-01-16 17:52:48,996 : INFO : deleting the raw counts dictionary of 38077 items\n",
      "2020-01-16 17:52:48,998 : INFO : sample=0.001 downsamples 40 most-common words\n",
      "2020-01-16 17:52:48,998 : INFO : downsampling leaves estimated 265709 word corpus (94.3% of prior 281823)\n",
      "2020-01-16 17:52:49,007 : INFO : estimated required memory for 1968 words and 300 dimensions: 5707200 bytes\n",
      "2020-01-16 17:52:49,008 : INFO : resetting layer weights\n"
     ]
    },
    {
     "name": "stdout",
     "output_type": "stream",
     "text": [
      "Training model....\n"
     ]
    },
    {
     "name": "stderr",
     "output_type": "stream",
     "text": [
      "2020-01-16 17:52:49,055 : INFO : training model with 4 workers on 1968 vocabulary and 300 features, using sg=0 hs=0 sample=0.001 negative=5 window=10\n",
      "2020-01-16 17:52:49,319 : INFO : worker thread finished; awaiting finish of 3 more threads\n",
      "2020-01-16 17:52:49,321 : INFO : worker thread finished; awaiting finish of 2 more threads\n",
      "2020-01-16 17:52:49,324 : INFO : worker thread finished; awaiting finish of 1 more threads\n",
      "2020-01-16 17:52:49,340 : INFO : worker thread finished; awaiting finish of 0 more threads\n",
      "2020-01-16 17:52:49,342 : INFO : EPOCH - 1 : training on 446902 raw words (265661 effective words) took 0.3s, 947524 effective words/s\n",
      "2020-01-16 17:52:49,646 : INFO : worker thread finished; awaiting finish of 3 more threads\n",
      "2020-01-16 17:52:49,654 : INFO : worker thread finished; awaiting finish of 2 more threads\n",
      "2020-01-16 17:52:49,660 : INFO : worker thread finished; awaiting finish of 1 more threads\n",
      "2020-01-16 17:52:49,663 : INFO : worker thread finished; awaiting finish of 0 more threads\n",
      "2020-01-16 17:52:49,664 : INFO : EPOCH - 2 : training on 446902 raw words (265747 effective words) took 0.3s, 840482 effective words/s\n",
      "2020-01-16 17:52:49,958 : INFO : worker thread finished; awaiting finish of 3 more threads\n",
      "2020-01-16 17:52:49,963 : INFO : worker thread finished; awaiting finish of 2 more threads\n",
      "2020-01-16 17:52:49,967 : INFO : worker thread finished; awaiting finish of 1 more threads\n",
      "2020-01-16 17:52:49,972 : INFO : worker thread finished; awaiting finish of 0 more threads\n",
      "2020-01-16 17:52:49,973 : INFO : EPOCH - 3 : training on 446902 raw words (265710 effective words) took 0.3s, 869958 effective words/s\n",
      "2020-01-16 17:52:50,267 : INFO : worker thread finished; awaiting finish of 3 more threads\n",
      "2020-01-16 17:52:50,269 : INFO : worker thread finished; awaiting finish of 2 more threads\n",
      "2020-01-16 17:52:50,282 : INFO : worker thread finished; awaiting finish of 1 more threads\n",
      "2020-01-16 17:52:50,284 : INFO : worker thread finished; awaiting finish of 0 more threads\n",
      "2020-01-16 17:52:50,285 : INFO : EPOCH - 4 : training on 446902 raw words (265863 effective words) took 0.3s, 876851 effective words/s\n",
      "2020-01-16 17:52:50,562 : INFO : worker thread finished; awaiting finish of 3 more threads\n",
      "2020-01-16 17:52:50,564 : INFO : worker thread finished; awaiting finish of 2 more threads\n",
      "2020-01-16 17:52:50,569 : INFO : worker thread finished; awaiting finish of 1 more threads\n",
      "2020-01-16 17:52:50,570 : INFO : worker thread finished; awaiting finish of 0 more threads\n",
      "2020-01-16 17:52:50,571 : INFO : EPOCH - 5 : training on 446902 raw words (265564 effective words) took 0.3s, 940440 effective words/s\n",
      "2020-01-16 17:52:50,571 : INFO : training on a 2234510 raw words (1328545 effective words) took 1.5s, 876649 effective words/s\n",
      "2020-01-16 17:52:50,573 : INFO : precomputing L2-norms of word weight vectors\n",
      "2020-01-16 17:52:50,578 : INFO : saving Word2Vec object under 300features_40minwords_10context, separately None\n",
      "2020-01-16 17:52:50,581 : INFO : not storing attribute vectors_norm\n",
      "2020-01-16 17:52:50,584 : INFO : not storing attribute cum_table\n",
      "2020-01-16 17:52:50,660 : INFO : saved 300features_40minwords_10context\n"
     ]
    }
   ],
   "source": [
    "num_features = 300  \n",
    "min_word_count = 40 \n",
    "num_workers = 4     \n",
    "context = 10        \n",
    "downsampling = 1e-3 \n",
    "\n",
    "# Initializing the train model\n",
    "print(\"Training model....\")\n",
    "model = word2vec.Word2Vec(sentences,\\\n",
    "                          workers=num_workers,\\\n",
    "                          size=num_features,\\\n",
    "                          min_count=min_word_count,\\\n",
    "                          window=context,\n",
    "                          sample=downsampling)\n",
    "\n",
    "model.init_sims(replace=True)\n",
    "\n",
    "model_name = \"300features_40minwords_10context\"\n",
    "model.save(model_name)"
   ]
  },
  {
   "cell_type": "code",
   "execution_count": 37,
   "metadata": {},
   "outputs": [
    {
     "name": "stderr",
     "output_type": "stream",
     "text": [
      "E:\\App\\Installed\\Anaconda\\lib\\site-packages\\gensim\\models\\keyedvectors.py:877: FutureWarning: arrays to stack must be passed as a \"sequence\" type such as list or tuple. Support for non-sequence iterables such as generators is deprecated as of NumPy 1.16 and will raise an error in the future.\n",
      "  vectors = vstack(self.word_vec(word, use_norm=True) for word in used_words).astype(REAL)\n"
     ]
    },
    {
     "data": {
      "text/plain": [
       "'man'"
      ]
     },
     "execution_count": 37,
     "metadata": {},
     "output_type": "execute_result"
    }
   ],
   "source": [
    "model.wv.doesnt_match(\"man woman dog child \".split() )"
   ]
  },
  {
   "cell_type": "code",
   "execution_count": 38,
   "metadata": {},
   "outputs": [
    {
     "data": {
      "text/plain": [
       "'king'"
      ]
     },
     "execution_count": 38,
     "metadata": {},
     "output_type": "execute_result"
    }
   ],
   "source": [
    "model.wv.doesnt_match(\"king woman man\".split())\n"
   ]
  },
  {
   "cell_type": "code",
   "execution_count": 39,
   "metadata": {},
   "outputs": [
    {
     "data": {
      "text/plain": [
       "[('love', 0.969670295715332),\n",
       " ('wife', 0.9571605920791626),\n",
       " ('father', 0.9448466300964355),\n",
       " ('mother', 0.9351049065589905),\n",
       " ('young', 0.9220728874206543),\n",
       " ('girl', 0.9143781661987305),\n",
       " ('woman', 0.9120641350746155),\n",
       " ('son', 0.908173680305481),\n",
       " ('life', 0.9072244763374329),\n",
       " ('finds', 0.9003933668136597)]"
      ]
     },
     "execution_count": 39,
     "metadata": {},
     "output_type": "execute_result"
    }
   ],
   "source": [
    "# This will print the most similar words present in the model\n",
    "model.wv.most_similar(\"man\")\n"
   ]
  },
  {
   "cell_type": "code",
   "execution_count": 40,
   "metadata": {},
   "outputs": [
    {
     "data": {
      "text/plain": [
       "[('clever', 0.9993911981582642),\n",
       " ('storyline', 0.9992851614952087),\n",
       " ('horrible', 0.9992677569389343),\n",
       " ('realistic', 0.9991623163223267),\n",
       " ('pleasure', 0.9989714622497559),\n",
       " ('standard', 0.9989585876464844),\n",
       " ('clich', 0.9989444017410278),\n",
       " ('mess', 0.9988400340080261),\n",
       " ('cliched', 0.998835563659668),\n",
       " ('bland', 0.998741865158081)]"
      ]
     },
     "execution_count": 40,
     "metadata": {},
     "output_type": "execute_result"
    }
   ],
   "source": [
    "model.wv.most_similar(\"awful\")\n"
   ]
  },
  {
   "cell_type": "code",
   "execution_count": 41,
   "metadata": {},
   "outputs": [
    {
     "name": "stderr",
     "output_type": "stream",
     "text": [
      "E:\\App\\Installed\\Anaconda\\lib\\site-packages\\ipykernel_launcher.py:1: DeprecationWarning: Call to deprecated `syn0` (Attribute will be removed in 4.0.0, use self.vectors instead).\n",
      "  \"\"\"Entry point for launching an IPython kernel.\n"
     ]
    },
    {
     "data": {
      "text/plain": [
       "(1968, 300)"
      ]
     },
     "execution_count": 41,
     "metadata": {},
     "output_type": "execute_result"
    }
   ],
   "source": [
    "model.wv.syn0.shape"
   ]
  },
  {
   "cell_type": "markdown",
   "metadata": {},
   "source": [
    "\n",
    "<div class=\"alert alert-block alert-success\">\n",
    "    <h2 align=\"center\"> ... Calculating the Average feature vectors ... </h2>\n",
    "<br>\n",
    "</div> \n",
    "    \n",
    "    "
   ]
  },
  {
   "cell_type": "code",
   "execution_count": 42,
   "metadata": {},
   "outputs": [],
   "source": [
    "def featureVecMethod(words, model, num_features):\n",
    "\n",
    "    featureVec = np.zeros(num_features,dtype=\"float32\")\n",
    "    nwords = 0\n",
    "    \n",
    "    index2word_set = set(model.wv.index2word)\n",
    "    \n",
    "    for word in  words:\n",
    "        if word in index2word_set:\n",
    "            nwords = nwords + 1\n",
    "            featureVec = np.add(featureVec,model[word])\n",
    "    \n",
    "    featureVec = np.divide(featureVec, nwords)\n",
    "    return featureVec"
   ]
  },
  {
   "cell_type": "code",
   "execution_count": 43,
   "metadata": {},
   "outputs": [],
   "source": [
    "def getAvgFeatureVecs(reviews, model, num_features):\n",
    "    counter = 0\n",
    "    reviewFeatureVecs = np.zeros((len(reviews),num_features),dtype=\"float32\")\n",
    "    for review in reviews:\n",
    "        \n",
    "        if counter%100 == 0:\n",
    "            print(\"Review %d of %d\"%(counter,len(reviews)))\n",
    "            \n",
    "        reviewFeatureVecs[counter] = featureVecMethod(review, model, num_features)\n",
    "        counter = counter+1\n",
    "        \n",
    "    return reviewFeatureVecs"
   ]
  },
  {
   "cell_type": "markdown",
   "metadata": {},
   "source": [
    "# Average of Train Data...\n",
    "* According to the shape of our features, a very common choice is calculating the average of each feature in Train and Test data for importing them into the our SVM model."
   ]
  },
  {
   "cell_type": "code",
   "execution_count": 44,
   "metadata": {},
   "outputs": [
    {
     "name": "stdout",
     "output_type": "stream",
     "text": [
      "Review 0 of 1247\n",
      "Review 100 of 1247\n",
      "Review 200 of 1247\n",
      "Review 300 of 1247\n"
     ]
    },
    {
     "name": "stderr",
     "output_type": "stream",
     "text": [
      "E:\\App\\Installed\\Anaconda\\lib\\site-packages\\ipykernel_launcher.py:11: DeprecationWarning: Call to deprecated `__getitem__` (Method will be removed in 4.0.0, use self.wv.__getitem__() instead).\n",
      "  # This is added back by InteractiveShellApp.init_path()\n"
     ]
    },
    {
     "name": "stdout",
     "output_type": "stream",
     "text": [
      "Review 400 of 1247\n",
      "Review 500 of 1247\n",
      "Review 600 of 1247\n",
      "Review 700 of 1247\n",
      "Review 800 of 1247\n",
      "Review 900 of 1247\n",
      "Review 1000 of 1247\n",
      "Review 1100 of 1247\n",
      "Review 1200 of 1247\n"
     ]
    }
   ],
   "source": [
    "clean_train_reviews = []\n",
    "for review in x_train:\n",
    "    clean_train_reviews.append(review_wordlist(review, remove_stopwords=True))\n",
    "    \n",
    "trainDataVecs = getAvgFeatureVecs(clean_train_reviews, model, num_features)"
   ]
  },
  {
   "cell_type": "markdown",
   "metadata": {},
   "source": [
    "# Average of Test Data...\n",
    "* According to the shape of our features, a very common choice is calculating the average of each feature in Train and Test data."
   ]
  },
  {
   "cell_type": "code",
   "execution_count": 45,
   "metadata": {},
   "outputs": [
    {
     "name": "stdout",
     "output_type": "stream",
     "text": [
      "Review 0 of 139\n",
      "Review 100 of 139\n"
     ]
    },
    {
     "name": "stderr",
     "output_type": "stream",
     "text": [
      "E:\\App\\Installed\\Anaconda\\lib\\site-packages\\ipykernel_launcher.py:11: DeprecationWarning: Call to deprecated `__getitem__` (Method will be removed in 4.0.0, use self.wv.__getitem__() instead).\n",
      "  # This is added back by InteractiveShellApp.init_path()\n"
     ]
    }
   ],
   "source": [
    "# Calculating average feature vactors for test set     \n",
    "clean_test_reviews = []\n",
    "for review in x_test:\n",
    "    clean_test_reviews.append(review_wordlist(review,remove_stopwords=True))\n",
    "    \n",
    "testDataVecs = getAvgFeatureVecs(clean_test_reviews, model, num_features)"
   ]
  },
  {
   "cell_type": "code",
   "execution_count": 46,
   "metadata": {},
   "outputs": [],
   "source": [
    "classifier = LinearSVC()\n",
    "targets = y_train\n",
    "classifier = classifier.fit(trainDataVecs, targets)\n",
    "predictions = classifier.predict(testDataVecs)"
   ]
  },
  {
   "cell_type": "markdown",
   "metadata": {},
   "source": [
    "\n",
    "<div class=\"alert alert-block alert-success\">\n",
    "    <h2 align=\"center\"> ... Evaluation Part ... </h2>\n",
    "<br>\n",
    "</div> \n",
    "    \n",
    "    "
   ]
  },
  {
   "cell_type": "markdown",
   "metadata": {},
   "source": [
    "##### Due to our small dataset, I tried to improve the accuracy with google word2vec library\"Gensim\", so the accuracy and precision got raised but not very much.\n",
    "##### In continue I try to apply a NN approach for a better comparision in task 5 (Report Task)."
   ]
  },
  {
   "cell_type": "code",
   "execution_count": 50,
   "metadata": {},
   "outputs": [
    {
     "name": "stdout",
     "output_type": "stream",
     "text": [
      "Model Accuracy:0.61\n",
      "              precision    recall  f1-score   support\n",
      "\n",
      "          -1       0.53      0.66      0.58        58\n",
      "           1       0.70      0.58      0.64        81\n",
      "\n",
      "    accuracy                           0.61       139\n",
      "   macro avg       0.61      0.62      0.61       139\n",
      "weighted avg       0.63      0.61      0.61       139\n",
      "\n"
     ]
    }
   ],
   "source": [
    "from sklearn.metrics import precision_score\n",
    "from sklearn.metrics import recall_score\n",
    "from sklearn.metrics import classification_report\n",
    "\n",
    "#Model Evaluation\n",
    "acc = accuracy_score(y_test, predictions, normalize=True)\n",
    "hit = precision_score(y_test,  predictions, average=None, labels=classes)\n",
    "capture = recall_score(y_test, predictions, average=None, labels=classes)\n",
    "print('Model Accuracy:%.2f'%acc)\n",
    "print(classification_report(y_test, predictions))"
   ]
  },
  {
   "cell_type": "code",
   "execution_count": 51,
   "metadata": {},
   "outputs": [],
   "source": [
    "import itertools\n",
    "\n",
    "def plot_confusion_matrix(cm, classes,\n",
    "                          normalize=False,\n",
    "                          title='Confusion matrix',\n",
    "                          cmap=plt.cm.Blues):\n",
    "\n",
    "    if normalize:\n",
    "        cm = cm.astype('float') / cm.sum(axis=1)[:, np.newaxis]\n",
    "\n",
    "    else:\n",
    "        print()\n",
    "\n",
    "    plt.imshow(cm, interpolation='nearest', cmap=cmap, aspect='auto')\n",
    "    plt.title(title)\n",
    "    plt.colorbar()\n",
    "    tick_marks = np.arange(len(classes))\n",
    "    plt.xticks(tick_marks, classes, rotation=45)\n",
    "    plt.yticks(tick_marks, classes)\n",
    "    fmt = '.2f' if normalize else 'd'\n",
    "    thresh = cm.max() / 2.\n",
    "\n",
    "    for i, j in itertools.product(range(cm.shape[0]), range(cm.shape[1])):\n",
    "        plt.text(j, i, format(cm[i, j], fmt),\n",
    "                 horizontalalignment=\"center\",\n",
    "                 color=\"white\" if cm[i, j] > thresh else \"black\")\n",
    "\n",
    "    plt.tight_layout()\n",
    "    plt.ylabel('True label')\n",
    "    plt.xlabel('Predicted label')\n",
    "    plt.figure(figsize=(150,100))"
   ]
  },
  {
   "cell_type": "code",
   "execution_count": 52,
   "metadata": {},
   "outputs": [
    {
     "name": "stdout",
     "output_type": "stream",
     "text": [
      "\n"
     ]
    },
    {
     "data": {
      "text/html": [
       "<div>\n",
       "<style scoped>\n",
       "    .dataframe tbody tr th:only-of-type {\n",
       "        vertical-align: middle;\n",
       "    }\n",
       "\n",
       "    .dataframe tbody tr th {\n",
       "        vertical-align: top;\n",
       "    }\n",
       "\n",
       "    .dataframe thead th {\n",
       "        text-align: right;\n",
       "    }\n",
       "</style>\n",
       "<table border=\"1\" class=\"dataframe\">\n",
       "  <thead>\n",
       "    <tr style=\"text-align: right;\">\n",
       "      <th></th>\n",
       "      <th>Category</th>\n",
       "      <th>Index</th>\n",
       "    </tr>\n",
       "  </thead>\n",
       "  <tbody>\n",
       "    <tr>\n",
       "      <th>0</th>\n",
       "      <td>1</td>\n",
       "      <td>1</td>\n",
       "    </tr>\n",
       "    <tr>\n",
       "      <th>1</th>\n",
       "      <td>-1</td>\n",
       "      <td>2</td>\n",
       "    </tr>\n",
       "  </tbody>\n",
       "</table>\n",
       "</div>"
      ],
      "text/plain": [
       "   Category  Index\n",
       "0         1      1\n",
       "1        -1      2"
      ]
     },
     "execution_count": 52,
     "metadata": {},
     "output_type": "execute_result"
    },
    {
     "data": {
      "image/png": "[encoded data removed]",
      "text/plain": [
       "<Figure size 432x288 with 2 Axes>"
      ]
     },
     "metadata": {
      "needs_background": "light"
     },
     "output_type": "display_data"
    },
    {
     "data": {
      "text/plain": [
       "<Figure size 10800x7200 with 0 Axes>"
      ]
     },
     "metadata": {},
     "output_type": "display_data"
    }
   ],
   "source": [
    "cnf_matrix = confusion_matrix(y_test, predictions,classes)\n",
    "np.set_printoptions(precision=2)\n",
    "class_names = range(1,classes.size+1)\n",
    "\n",
    "plt.figure()\n",
    "plot_confusion_matrix(cnf_matrix, classes=class_names,title='My Confusion matrix')\n",
    "classInfo = pd.DataFrame(data=[])\n",
    "\n",
    "for i in range(0,classes.size):\n",
    "    classInfo = classInfo.append([[classes[i],i+1]],ignore_index=True)\n",
    "classInfo.columns=['Category','Index']\n",
    "classInfo"
   ]
  },
  {
   "cell_type": "markdown",
   "metadata": {},
   "source": [
    "##  "
   ]
  },
  {
   "cell_type": "markdown",
   "metadata": {},
   "source": [
    "#### In continue I try to apply a NN approach for a better comparision in task 5 (Report Task)."
   ]
  },
  {
   "cell_type": "code",
   "execution_count": null,
   "metadata": {},
   "outputs": [],
   "source": []
  }
 ],
 "metadata": {
  "kernelspec": {
   "display_name": "Python 3",
   "language": "python",
   "name": "python3"
  },
  "language_info": {
   "codemirror_mode": {
    "name": "ipython",
    "version": 3
   },
   "file_extension": ".py",
   "mimetype": "text/x-python",
   "name": "python",
   "nbconvert_exporter": "python",
   "pygments_lexer": "ipython3",
   "version": "3.7.3"
  }
 },
 "nbformat": 4,
 "nbformat_minor": 2
}
